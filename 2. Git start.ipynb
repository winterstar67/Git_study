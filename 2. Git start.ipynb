{
 "cells": [
  {
   "cell_type": "markdown",
   "id": "6806aea4-07a7-4ca1-9a60-275bf335a16a",
   "metadata": {},
   "source": [
    "# Git 버전관리 시작"
   ]
  },
  {
   "cell_type": "markdown",
   "id": "051ab523-14ea-408e-8bf0-4f9e35c4e835",
   "metadata": {},
   "source": [
    "### 1. 버전 관리가 이루어질 폴더를 지정하자.\n",
    "먼저 git bash 프로그램을 실행시키자.\n",
    "\n",
    "버전 관리를 위해서는 먼저 \"어떤 폴더에 대해서 버전 관리를 할지 지정\"해줘야한다. 여기서는 실습 목적으로 `mkdir GitPrac`명령어로 실습 폴더를 만들자. 그 후 다음과 같은 과정을 해보자.\n",
    "1. `cd GitPrac`으로 해당 폴더로 이동한다.\n",
    "2. 우리는 GitPrac이라는 디렉토리에 대해서 작업을 하고싶은 것이기에 이를 지정해줘야 한다. 이를 위해서 `git init`명령어를 입력하자. 이렇게 하면 initialized empty Git repository라고 나온다. 이는 .git이라는 디렉토리에 깃 저장소를 초기화헀다. 라는 의미이다.\n",
    "   - 앞으로 우리가 버전 관리를 하게 되면 .git 디렉토리에 여러 정보가 생성된다. **만약 이 폴더를 지우면 버전 정보가 다 날아간다...**"
   ]
  },
  {
   "cell_type": "markdown",
   "id": "ae8603c9-1252-4f3c-9b98-34e12db6c0cc",
   "metadata": {
    "jp-MarkdownHeadingCollapsed": true
   },
   "source": [
    "### 2. 버전 관리할 파일을 지정하자.\n",
    "처음 예시에서 리포트를 \"최종본\", \"진짜 최종본\", \"진짜 최종본최종본\" 과 같은 버전 예시를 들었다. 여기서 버전 관리 파일을 지정한다 하면, 그 파일은 위의 리포트 파일이 될 것이다. 이제 f1.txt 이라는 파일을 임의로 만들어 버전 관리 지정을 해보자.\n",
    "1. 먼저 vim f1.txt를 통해 파일을 생성하자.\n",
    "2. `git status`를 입력해보자. 이렇게 하면 untracked라고 나올텐데, 이는 버전 관리 대상인 디렉토리 안에, 버전 관리중인 파일이 없다는 의미이다.\n",
    "3. 그렇기 때문에 어떤 파일을 버전 관리할지 지정해야 하는데 그 명령어가 `git add 파일명`이다.\n",
    "4. 이제 다시 git status를 해보면, 아까와는 달리 f1txt 파일은 새로운 파일이라 인식하기 시작한다."
   ]
  },
  {
   "cell_type": "markdown",
   "id": "38b6f3ec-d3ba-4ba9-9799-712bbeedced7",
   "metadata": {
    "jp-MarkdownHeadingCollapsed": true
   },
   "source": [
    "### 3. 버전 관리할 파일을 지정,하자."
   ]
  }
 ],
 "metadata": {
  "kernelspec": {
   "display_name": "Python 3 (ipykernel)",
   "language": "python",
   "name": "python3"
  },
  "language_info": {
   "codemirror_mode": {
    "name": "ipython",
    "version": 3
   },
   "file_extension": ".py",
   "mimetype": "text/x-python",
   "name": "python",
   "nbconvert_exporter": "python",
   "pygments_lexer": "ipython3",
   "version": "3.9.12"
  }
 },
 "nbformat": 4,
 "nbformat_minor": 5
}
