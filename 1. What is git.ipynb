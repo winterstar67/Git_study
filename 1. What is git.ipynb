{
 "cells": [
  {
   "cell_type": "markdown",
   "id": "6806aea4-07a7-4ca1-9a60-275bf335a16a",
   "metadata": {},
   "source": [
    "# Git"
   ]
  },
  {
   "cell_type": "markdown",
   "id": "051ab523-14ea-408e-8bf0-4f9e35c4e835",
   "metadata": {},
   "source": [
    "### === 1. Git 이란? ===\n",
    "Git은 `버전 관리 시스템`이다.  \n",
    "버전의 의미는 다음과 같은 예시를 생각해보자. 우리가 레포트를 작성할 때, “최종본” 이라 저장하고 수정사항이 생겨서 “진짜 최종본”으로 저장, 한 번더 하면 “진짜 최종본최종본” 이런식으로 많은 파일을 만들게 된다. 하지만 이러한 방식은 번거로울 뿐더러 다음과 같은 단점이 있다.\n",
    "- 파일이 너무 많아 지저분해진다.\n",
    "- 모든 경우에 대해서 백업을 다 할 순 없다. 진짜 필요한 내용은 그냥 수정해버리고 백업을 안하는 경우도 있다.\n",
    "\n",
    "위와 같은 버전들을 관리하기 위한 것이 **git**이다."
   ]
  },
  {
   "cell_type": "markdown",
   "id": "dc78a32a-5159-41fd-bec3-050a11c27066",
   "metadata": {},
   "source": [
    "![1](https://github.com/winterstar67/Git_study/blob/main/Images/Version_manage_example.png?raw=true)"
   ]
  },
  {
   "cell_type": "markdown",
   "id": "a406739c-6835-4e46-9ce7-fbcd493a9e69",
   "metadata": {},
   "source": [
    "### === 2. Git 설치 ==="
   ]
  },
  {
   "cell_type": "markdown",
   "id": "f342fe20-2362-46ce-8dcb-863067015958",
   "metadata": {},
   "source": [
    "https://git-scm.com/ 사이트에 들어가서 자신의 컴퓨터에 맞게 installer를 설치 후, install하면 된다. (install할 때 2023-06-14 기준으로 default 설정으로 설치하였다.)"
   ]
  }
 ],
 "metadata": {
  "kernelspec": {
   "display_name": "Python 3 (ipykernel)",
   "language": "python",
   "name": "python3"
  },
  "language_info": {
   "codemirror_mode": {
    "name": "ipython",
    "version": 3
   },
   "file_extension": ".py",
   "mimetype": "text/x-python",
   "name": "python",
   "nbconvert_exporter": "python",
   "pygments_lexer": "ipython3",
   "version": "3.9.12"
  }
 },
 "nbformat": 4,
 "nbformat_minor": 5
}
